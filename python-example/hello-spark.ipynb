{
 "cells": [
  {
   "cell_type": "code",
   "execution_count": 1,
   "id": "94d24dbf-d3bf-4538-b38e-8cde644e3b9d",
   "metadata": {},
   "outputs": [],
   "source": [
    "import findspark\n",
    "findspark.init()"
   ]
  },
  {
   "cell_type": "code",
   "execution_count": 2,
   "id": "985fdd0a-7b90-4f6a-bed9-8c7fa8bd4f7f",
   "metadata": {},
   "outputs": [],
   "source": [
    "from pyspark import SparkContext\n",
    "# local is execution mode, spark driver, \n",
    "# spark executor runs in same JVM in same machine / not distributed\n",
    "# good for development, learning , not for production\n",
    "# SparkBasic is application name of your choice\n",
    "sc = SparkContext(\"local\", \"SparkBasic\")"
   ]
  },
  {
   "cell_type": "code",
   "execution_count": 4,
   "id": "2fb930a0-7b23-4c2d-af12-ac34e0c9a9e7",
   "metadata": {},
   "outputs": [
    {
     "name": "stdout",
     "output_type": "stream",
     "text": [
      "[1, 3, 5, 7, 9]\n"
     ]
    }
   ],
   "source": [
    "rdd = sc.parallelize([0,1,2,3,4,5,6,7,8,9])\n",
    "oddRdd = rdd.filter (lambda n: n % 2 == 1)\n",
    "results = oddRdd.collect()\n",
    "print(results)"
   ]
  },
  {
   "cell_type": "code",
   "execution_count": null,
   "id": "4ebfa0e1-c94e-484c-badf-86ad6fa2240b",
   "metadata": {},
   "outputs": [],
   "source": []
  }
 ],
 "metadata": {
  "kernelspec": {
   "display_name": "Python 3 (ipykernel)",
   "language": "python",
   "name": "python3"
  },
  "language_info": {
   "codemirror_mode": {
    "name": "ipython",
    "version": 3
   },
   "file_extension": ".py",
   "mimetype": "text/x-python",
   "name": "python",
   "nbconvert_exporter": "python",
   "pygments_lexer": "ipython3",
   "version": "3.7.10"
  }
 },
 "nbformat": 4,
 "nbformat_minor": 5
}
