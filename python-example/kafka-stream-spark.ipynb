{
 "cells": [
  {
   "cell_type": "code",
   "execution_count": 1,
   "id": "0ca98eb1-fb83-42f0-8a35-6ecaf969f98a",
   "metadata": {},
   "outputs": [],
   "source": [
    "import os\n",
    "\n",
    "\n",
    "\n",
    "SCALA_VERSION = '2.11'\n",
    "SPARK_VERSION = '2.4.7'\n",
    "\n",
    "os.environ['PYSPARK_SUBMIT_ARGS'] = f'--packages org.apache.spark:spark-sql-kafka-0-10_{SCALA_VERSION}:{SPARK_VERSION} pyspark-shell'\n",
    "\n"
   ]
  },
  {
   "cell_type": "code",
   "execution_count": 2,
   "id": "426ee5cf-264f-4ec6-87e9-be3383d2b106",
   "metadata": {},
   "outputs": [],
   "source": [
    "\n",
    "import findspark\n",
    "findspark.init()"
   ]
  },
  {
   "cell_type": "code",
   "execution_count": 4,
   "id": "03102697-a5b2-41a9-bbb9-9c76267d8311",
   "metadata": {},
   "outputs": [],
   "source": [
    "\n",
    "import pyspark\n",
    "\n",
    "# consume from a topic called invoices2\n",
    "# calculate aggregate , print data on console\n",
    "# publish the aggregated values back to kafka as JSON\n",
    "\n",
    "# kafka create a topic called \"aggregated-invoices\"\n",
    "\n",
    "# kafka-topics  --create --bootstrap-server localhost:9092 --replication-factor 1 --partitions 1 --topic aggregated-invoices\n",
    "\n",
    "# run consumer to listen on messages from aggregated-invoices\n",
    "# kafka-console-consumer --bootstrap-server localhost:9092 --topic aggregated-invoices \n",
    "\n",
    "\n",
    "from pyspark.sql import SparkSession\n",
    "spark = SparkSession.builder.master(\"local[*]\")\\\n",
    "                            .config('spark.sql.shuffle.partitions', 4)\\\n",
    "                            .appName(\"SparkStreamingKafkaInvoiceStream\").getOrCreate()\n",
    "\n"
   ]
  },
  {
   "cell_type": "code",
   "execution_count": 6,
   "id": "2799aea4-d90a-4626-b393-932ff6463bfc",
   "metadata": {},
   "outputs": [
    {
     "name": "stdout",
     "output_type": "stream",
     "text": [
      "root\n",
      " |-- key: binary (nullable = true)\n",
      " |-- value: binary (nullable = true)\n",
      " |-- topic: string (nullable = true)\n",
      " |-- partition: integer (nullable = true)\n",
      " |-- offset: long (nullable = true)\n",
      " |-- timestamp: timestamp (nullable = true)\n",
      " |-- timestampType: integer (nullable = true)\n",
      "\n"
     ]
    }
   ],
   "source": [
    "\n",
    "# read from kafka, here spark is consumer for kafka topic called invoices\n",
    "# spark streaming works as dataframe/sql\n",
    "kafkaDf = spark.readStream.format(\"kafka\")\\\n",
    "  .option(\"kafka.bootstrap.servers\", \"localhost:9092\")\\\n",
    "  .option(\"subscribe\", \"invoices2\")\\\n",
    "  .option(\"group.id\",\"invoice-group\")\\\n",
    "  .load()\n",
    "\n",
    "# .show/print will not work directily due to stream..\n",
    "# linesDf.show() # worn't work\n",
    "kafkaDf.printSchema() # works"
   ]
  },
  {
   "cell_type": "code",
   "execution_count": 7,
   "id": "78e764bb-67dc-4ce7-9aa0-0a908d197e69",
   "metadata": {},
   "outputs": [
    {
     "name": "stdout",
     "output_type": "stream",
     "text": [
      "root\n",
      " |-- timestamp: timestamp (nullable = true)\n",
      " |-- value: string (nullable = true)\n",
      "\n"
     ]
    }
   ],
   "source": [
    "\n",
    "# key is kafka key, in binary format\n",
    "# value is kafka value, in binary format\n",
    "# topic string\n",
    "# parition, integer\n",
    "# offer long \n",
    "# timestamp - longint in ms\n",
    "# timestampType - Source Time, Record write time\n",
    "\n",
    "# now convert kafka value which is in bytes to STRING, we ignore the key for now...\n",
    "# now we pick only value from the stream..\n",
    "invoiceJsonRawDf = kafkaDf.selectExpr(\"timestamp\", \"CAST(value AS STRING)\")\n",
    "invoiceJsonRawDf.printSchema() # we get only value as string\n"
   ]
  },
  {
   "cell_type": "code",
   "execution_count": 8,
   "id": "5842a349-733a-47de-946b-8b24fdc72114",
   "metadata": {},
   "outputs": [],
   "source": [
    "\n",
    "import pyspark.sql.functions as F\n",
    "from pyspark.sql.types import StructField, StructType, IntegerType, StringType, DoubleType, DateType\n",
    "# json is object, spark DF needs schema \n",
    "\n",
    "schema = StructType(\n",
    "        [\n",
    "            StructField(\"InvoiceNo\", IntegerType(), True),\n",
    "            StructField(\"StockCode\", StringType(), True),\n",
    "            StructField(\"Quantity\", IntegerType(), True),\n",
    "            StructField(\"Description\", StringType(), True),\n",
    "            StructField(\"InvoiceDate\", StringType(), True),\n",
    "            #StructField(\"InvoiceDate\", DateType(), True),\n",
    "            StructField(\"UnitPrice\", DoubleType(), True),\n",
    "            StructField(\"CustomerID\", IntegerType(), True),\n",
    "            StructField(\"Country\", StringType(), True),\n",
    "        ]\n",
    ")\n"
   ]
  },
  {
   "cell_type": "code",
   "execution_count": 9,
   "id": "b6b2920d-dbd9-4fc0-a9b7-5e8785f6af56",
   "metadata": {},
   "outputs": [
    {
     "name": "stdout",
     "output_type": "stream",
     "text": [
      "root\n",
      " |-- timestamp: timestamp (nullable = true)\n",
      " |-- value: struct (nullable = true)\n",
      " |    |-- InvoiceNo: integer (nullable = true)\n",
      " |    |-- StockCode: string (nullable = true)\n",
      " |    |-- Quantity: integer (nullable = true)\n",
      " |    |-- Description: string (nullable = true)\n",
      " |    |-- InvoiceDate: string (nullable = true)\n",
      " |    |-- UnitPrice: double (nullable = true)\n",
      " |    |-- CustomerID: integer (nullable = true)\n",
      " |    |-- Country: string (nullable = true)\n",
      "\n"
     ]
    }
   ],
   "source": [
    "\n",
    "#{\"InvoiceNo\": 495774, \"StockCode\": \"84406G\", \"Quantity\": 2, \"Description\": \"TODO\", \"InvoiceDate\": \"05/22/2021 00:36\", \"UnitPrice\": 2.0, \"CustomerID\": 17850, \"Country\": \"AT\"}\n",
    "\n",
    "# replacing json string with a json object with schema\n",
    "# now value is a column, it contains a struct\n",
    "jsonDf = invoiceJsonRawDf.withColumn(\"value\", F.from_json(\"value\", schema))\n",
    "jsonDf.printSchema()"
   ]
  },
  {
   "cell_type": "code",
   "execution_count": 11,
   "id": "5b11a5d4-f646-4f73-a681-3dfa2143341e",
   "metadata": {},
   "outputs": [
    {
     "name": "stdout",
     "output_type": "stream",
     "text": [
      "root\n",
      " |-- timestamp: timestamp (nullable = true)\n",
      " |-- InvoiceNo: integer (nullable = true)\n",
      " |-- StockCode: string (nullable = true)\n",
      " |-- Quantity: integer (nullable = true)\n",
      " |-- Description: string (nullable = true)\n",
      " |-- InvoiceDate: string (nullable = true)\n",
      " |-- UnitPrice: double (nullable = true)\n",
      " |-- CustomerID: integer (nullable = true)\n",
      " |-- Country: string (nullable = true)\n",
      "\n"
     ]
    }
   ],
   "source": [
    "\n",
    "# now we will extract value which struct type ewith all schema field mention, to specific columns\n",
    "#InvoiceNo, StockCode, ....\n",
    "invoiceDf = jsonDf.select(\"timestamp\", F.col(\"value.*\")) \n",
    "invoiceDf.printSchema()"
   ]
  },
  {
   "cell_type": "code",
   "execution_count": 12,
   "id": "79121739-ec59-4727-8065-d598a6d65746",
   "metadata": {},
   "outputs": [
    {
     "name": "stdout",
     "output_type": "stream",
     "text": [
      "root\n",
      " |-- timestamp: timestamp (nullable = true)\n",
      " |-- InvoiceNo: integer (nullable = true)\n",
      " |-- StockCode: string (nullable = true)\n",
      " |-- Quantity: integer (nullable = true)\n",
      " |-- Description: string (nullable = true)\n",
      " |-- InvoiceDate: string (nullable = true)\n",
      " |-- UnitPrice: double (nullable = true)\n",
      " |-- CustomerID: integer (nullable = true)\n",
      " |-- Country: string (nullable = true)\n",
      " |-- Amount: double (nullable = true)\n",
      "\n"
     ]
    }
   ],
   "source": [
    "\n",
    "# Give me how much money generated selling goods for last 60 seconds/1 minutes\n",
    "invoiceDf = invoiceDf.withColumn(\"Amount\", F.col(\"Quantity\") * F.col(\"UnitPrice\") )\n",
    "# below code is not right solution, group by, by last last 6o seconds\n",
    "# groupByItemCount = invoiceDf.groupBy(\"InvoiceNo\")....\n",
    "invoiceDf.printSchema()"
   ]
  },
  {
   "cell_type": "code",
   "execution_count": 13,
   "id": "02df416e-df5e-4cac-84f9-7ee51158958b",
   "metadata": {},
   "outputs": [],
   "source": [
    "\n",
    "windowedAmountSum = invoiceDf.groupBy(\"Country\", F.window(invoiceDf.timestamp, \n",
    "                                              \"60 seconds\", \n",
    "                                               \"60 seconds\"))\\\n",
    "                              .agg(F.sum(\"Amount\").alias(\"TotalAmount\"))\\\n",
    "                              .selectExpr(\"to_json(struct(*)) AS value\")\\\n",
    "                              .selectExpr(\"CAST(value AS STRING)\")\n",
    "\n"
   ]
  },
  {
   "cell_type": "code",
   "execution_count": 14,
   "id": "eca9b676-ad76-4fdf-9241-127e62da983f",
   "metadata": {},
   "outputs": [],
   "source": [
    "\n",
    "echoOnconsole = windowedAmountSum\\\n",
    "                .writeStream\\\n",
    "                .outputMode(\"complete\")\\\n",
    "                .format(\"console\")\\\n",
    "                .start() # start the query. spark will subscribe for data\n"
   ]
  },
  {
   "cell_type": "code",
   "execution_count": 15,
   "id": "f460dcf0-ca79-4af9-8385-babf52fb3333",
   "metadata": {},
   "outputs": [
    {
     "data": {
      "text/plain": [
       "<pyspark.sql.streaming.StreamingQuery at 0x1bfa4605788>"
      ]
     },
     "execution_count": 15,
     "metadata": {},
     "output_type": "execute_result"
    }
   ],
   "source": [
    "\n",
    "windowedAmountSum \\\n",
    "    .writeStream \\\n",
    "    .format(\"kafka\") \\\n",
    "    .outputMode(\"complete\") \\\n",
    "    .option(\"kafka.bootstrap.servers\", \"localhost:9092\") \\\n",
    "    .option(\"topic\", \"aggregated-invoices\") \\\n",
    "    .option(\"checkpointLocation\", \"file:///c:/spark/temp6\") \\\n",
    "    .start()\n"
   ]
  },
  {
   "cell_type": "code",
   "execution_count": null,
   "id": "ba382539-3f64-4a97-b78e-9bc06dc2e6da",
   "metadata": {},
   "outputs": [],
   "source": [
    "\n",
    "echoOnconsole.awaitTermination()\n",
    "\n",
    "# later you can terminal the jupyter\n",
    "        \n"
   ]
  },
  {
   "cell_type": "code",
   "execution_count": null,
   "id": "371b071a-ef3c-4bc5-9691-3d06472fff1f",
   "metadata": {},
   "outputs": [],
   "source": []
  }
 ],
 "metadata": {
  "kernelspec": {
   "display_name": "Python 3 (ipykernel)",
   "language": "python",
   "name": "python3"
  },
  "language_info": {
   "codemirror_mode": {
    "name": "ipython",
    "version": 3
   },
   "file_extension": ".py",
   "mimetype": "text/x-python",
   "name": "python",
   "nbconvert_exporter": "python",
   "pygments_lexer": "ipython3",
   "version": "3.7.10"
  }
 },
 "nbformat": 4,
 "nbformat_minor": 5
}
